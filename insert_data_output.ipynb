{
 "cells": [
  {
   "cell_type": "markdown",
   "id": "42f700e0",
   "metadata": {},
   "source": [
    "## Insert Data"
   ]
  },
  {
   "cell_type": "markdown",
   "id": "4bffb8a8",
   "metadata": {},
   "source": [
    "#### Imports"
   ]
  },
  {
   "cell_type": "code",
   "execution_count": 1,
   "id": "6c663a92",
   "metadata": {
    "execution": {
     "iopub.execute_input": "2025-10-13T16:31:21.823843Z",
     "iopub.status.busy": "2025-10-13T16:31:21.823169Z",
     "iopub.status.idle": "2025-10-13T16:31:24.185650Z",
     "shell.execute_reply": "2025-10-13T16:31:24.184016Z"
    }
   },
   "outputs": [],
   "source": [
    "import pandas as pd\n",
    "import sqlite3\n"
   ]
  },
  {
   "cell_type": "markdown",
   "id": "2c36cb0f",
   "metadata": {},
   "source": [
    "#### Setup Connection"
   ]
  },
  {
   "cell_type": "code",
   "execution_count": 2,
   "id": "4828dd2b",
   "metadata": {
    "execution": {
     "iopub.execute_input": "2025-10-13T16:31:24.190115Z",
     "iopub.status.busy": "2025-10-13T16:31:24.189342Z",
     "iopub.status.idle": "2025-10-13T16:31:24.212491Z",
     "shell.execute_reply": "2025-10-13T16:31:24.210416Z"
    }
   },
   "outputs": [],
   "source": [
    "conn = sqlite3.connect('../data/occupationData.db')\n",
    "source_dir = '../data/validated_files/'"
   ]
  },
  {
   "cell_type": "markdown",
   "id": "3b02963f",
   "metadata": {},
   "source": [
    "#### Send data function"
   ]
  },
  {
   "cell_type": "code",
   "execution_count": 3,
   "id": "01ade716",
   "metadata": {
    "execution": {
     "iopub.execute_input": "2025-10-13T16:31:24.217447Z",
     "iopub.status.busy": "2025-10-13T16:31:24.216769Z",
     "iopub.status.idle": "2025-10-13T16:31:24.231352Z",
     "shell.execute_reply": "2025-10-13T16:31:24.229654Z"
    }
   },
   "outputs": [],
   "source": [
    "columns_to_keep = []\n",
    "created_at = pd.Timestamp.now()\n",
    "def insert_data(table, if_exists='replace'):\n",
    "    try:\n",
    "       \n",
    "        if table == 'dimTechSkills':\n",
    "            columns_to_keep = ['O*NET-SOC Code', 'Example', 'Commodity Code', 'Commodity Title', 'Hot Technology', 'In Demand']\n",
    "            df = pd.read_csv(f\"{source_dir}jobTechSkills.csv\", usecols=columns_to_keep)\n",
    "            df['created_at'] = created_at\n",
    "            df = df.rename(columns={'O*NET-SOC Code': 'ONET_SOC_Code', 'Commodity Code': 'Commodity_Code', 'Commodity Title': 'Commodity_Title', 'Hot Technology': 'Hot_Tech', 'In Demand': 'In_Demand'})\n",
    "            df.to_sql(table, conn, if_exists=if_exists, index=False)\n",
    "            print(f\"Inserted {len(df)} records into {table}\") \n",
    "            \n",
    "        elif table == 'dimJobInfo':\n",
    "            columns_to_keep = ['O*NET-SOC Code', 'Title', 'Description']\n",
    "            df = pd.read_csv(f\"{source_dir}jobTitleInfo.csv\", usecols=columns_to_keep)\n",
    "            df['created_at'] = created_at\n",
    "            df = df.rename(columns={'O*NET-SOC Code': 'ONET_SOC_Code'})\n",
    "            df.to_sql(table, conn, if_exists=if_exists, index=False)\n",
    "            print(f\"Inserted {len(df)} records into {table}\")\n",
    "            \n",
    "        elif table == 'dimSkills':\n",
    "            columns_to_keep = ['O*NET-SOC Code', 'Element ID', 'Element Name', 'Scale ID', 'Data Value']\n",
    "            df = pd.read_csv(f\"{source_dir}jobSkills.csv\", usecols=columns_to_keep)\n",
    "            df['created_at'] = created_at\n",
    "            df = df.rename(columns={'O*NET-SOC Code': 'ONET_SOC_Code', 'Element ID': 'Element_ID', 'Element Name': 'Skill', 'Scale ID': 'Scale_ID', 'Data_Value': 'Rating'})\n",
    "            df.to_sql(table, conn, if_exists=if_exists, index=False)\n",
    "            print(f\"Inserted {len(df)} records into {table}\")\n",
    "        \n",
    "    except FileNotFoundError:\n",
    "        print(f\"File for {source_dir} not found.\")\n",
    "    except Exception as e:\n",
    "        print(f\"Error inserting data into {table}: {e}\")"
   ]
  },
  {
   "cell_type": "markdown",
   "id": "bd3b0249",
   "metadata": {},
   "source": [
    "#### Call insert_data function"
   ]
  },
  {
   "cell_type": "code",
   "execution_count": 4,
   "id": "ad6e7d6f",
   "metadata": {
    "execution": {
     "iopub.execute_input": "2025-10-13T16:31:24.235936Z",
     "iopub.status.busy": "2025-10-13T16:31:24.235301Z",
     "iopub.status.idle": "2025-10-13T16:31:25.229796Z",
     "shell.execute_reply": "2025-10-13T16:31:25.227362Z"
    }
   },
   "outputs": [
    {
     "name": "stdout",
     "output_type": "stream",
     "text": [
      "Inserted 32681 records into dimTechSkills\n",
      "Inserted 1016 records into dimJobInfo\n"
     ]
    },
    {
     "name": "stdout",
     "output_type": "stream",
     "text": [
      "Inserted 34673 records into dimSkills\n"
     ]
    }
   ],
   "source": [
    "#insert_data('dimAltTitles')\n",
    "insert_data('dimTechSkills')\n",
    "insert_data('dimJobInfo')\n",
    "insert_data('dimSkills')\n",
    "#conn.close()"
   ]
  },
  {
   "cell_type": "markdown",
   "id": "a098ac7f",
   "metadata": {},
   "source": [
    "#### Populate fact table"
   ]
  },
  {
   "cell_type": "code",
   "execution_count": 5,
   "id": "1b9110c5",
   "metadata": {
    "execution": {
     "iopub.execute_input": "2025-10-13T16:31:25.234379Z",
     "iopub.status.busy": "2025-10-13T16:31:25.233730Z",
     "iopub.status.idle": "2025-10-13T16:31:26.470916Z",
     "shell.execute_reply": "2025-10-13T16:31:26.469492Z"
    }
   },
   "outputs": [
    {
     "name": "stdout",
     "output_type": "stream",
     "text": [
      "Fact table populated successfully.\n"
     ]
    }
   ],
   "source": [
    "cursor = conn.cursor()\n",
    "try:\n",
    "    cursor.executescript(open('../SQL/factTable_populate.sql').read())\n",
    "    print(\"Fact table populated successfully.\")\n",
    "except Exception as e:\n",
    "    print(\"Error populating fact table:\", e)\n",
    "    \n",
    "finally: \n",
    "    conn.commit()\n",
    "    conn.close()"
   ]
  }
 ],
 "metadata": {
  "kernelspec": {
   "display_name": "Python 3",
   "language": "python",
   "name": "python3"
  },
  "language_info": {
   "codemirror_mode": {
    "name": "ipython",
    "version": 3
   },
   "file_extension": ".py",
   "mimetype": "text/x-python",
   "name": "python",
   "nbconvert_exporter": "python",
   "pygments_lexer": "ipython3",
   "version": "3.13.8"
  }
 },
 "nbformat": 4,
 "nbformat_minor": 5
}
