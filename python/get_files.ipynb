{
 "cells": [
  {
   "cell_type": "markdown",
   "id": "22a5abe5",
   "metadata": {},
   "source": [
    "# Get Data Files"
   ]
  },
  {
   "cell_type": "markdown",
   "id": "5a2fb3c8",
   "metadata": {},
   "source": [
    "#### Imports   "
   ]
  },
  {
   "cell_type": "code",
   "execution_count": null,
   "id": "8e50c260",
   "metadata": {},
   "outputs": [],
   "source": [
    "import pandas as pd\n",
    "\n",
    "\n"
   ]
  },
  {
   "cell_type": "markdown",
   "id": "f4edd17d",
   "metadata": {},
   "source": [
    "#### Define function to get files"
   ]
  },
  {
   "cell_type": "code",
   "execution_count": 8,
   "id": "899592df",
   "metadata": {},
   "outputs": [],
   "source": [
    "url_domain = 'https://www.onetcenter.org/dl_files/database/db_30_0_text/'\n",
    "\n",
    "def get_file(file_name, save_as):\n",
    "    url = (f'{url_domain}{file_name}')\n",
    "    df = pd.read_table(url, sep='\\t', dtype=str)\n",
    "    df.to_csv(f'../data/data_source_files/{save_as}', index=False, header=True, na_rep='missing')"
   ]
  },
  {
   "cell_type": "markdown",
   "id": "37f508e4",
   "metadata": {},
   "source": [
    "### Call get_file function for each file"
   ]
  },
  {
   "cell_type": "code",
   "execution_count": 9,
   "id": "430f2664",
   "metadata": {},
   "outputs": [],
   "source": [
    "\n",
    "get_file('Occupation%20Data.txt', 'jobTitleInfo.csv')\n",
    "\n",
    "#get_file('Alternate%20Titles.txt', 'jobAltTitles.csv')\n",
    "#get_file('Task%20Statements.txt', 'jobTasks.csv')\n",
    "\n",
    "\n",
    "get_file('Technology%20Skills.txt', 'jobTechSkills.csv')\n",
    "#get_file('Tools%20Used.txt', 'jobTools.csv')\n",
    "get_file('Skills.txt', 'jobSkills.csv')"
   ]
  }
 ],
 "metadata": {
  "kernelspec": {
   "display_name": "Python 3",
   "language": "python",
   "name": "python3"
  },
  "language_info": {
   "codemirror_mode": {
    "name": "ipython",
    "version": 3
   },
   "file_extension": ".py",
   "mimetype": "text/x-python",
   "name": "python",
   "nbconvert_exporter": "python",
   "pygments_lexer": "ipython3",
   "version": "3.13.8"
  }
 },
 "nbformat": 4,
 "nbformat_minor": 5
}
