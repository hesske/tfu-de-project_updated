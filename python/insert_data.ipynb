{
 "cells": [
  {
   "cell_type": "markdown",
   "id": "42f700e0",
   "metadata": {},
   "source": [
    "## Insert Data"
   ]
  },
  {
   "cell_type": "markdown",
   "id": "4bffb8a8",
   "metadata": {},
   "source": [
    "#### Imports"
   ]
  },
  {
   "cell_type": "code",
   "execution_count": 3,
   "id": "6c663a92",
   "metadata": {},
   "outputs": [],
   "source": [
    "import pandas as pd\n",
    "import sqlite3\n",
    "import os"
   ]
  },
  {
   "cell_type": "markdown",
   "id": "2c36cb0f",
   "metadata": {},
   "source": [
    "#### Setup Connection"
   ]
  },
  {
   "cell_type": "code",
   "execution_count": null,
   "id": "4828dd2b",
   "metadata": {},
   "outputs": [],
   "source": [
    "conn = sqlite3.connect('../data/occupationData.db')\n",
    "source_dir = '../data/data_source_files/'"
   ]
  },
  {
   "cell_type": "markdown",
   "id": "3b02963f",
   "metadata": {},
   "source": [
    "#### Send data function"
   ]
  },
  {
   "cell_type": "code",
   "execution_count": 5,
   "id": "01ade716",
   "metadata": {},
   "outputs": [],
   "source": [
    "def insert_data(table, if_exists='replace'):\n",
    "    try:\n",
    "        if table == 'dimAltTitles':\n",
    "            df = pd.read_csv(f\"{source_dir}jobAltTitles.csv\")\n",
    "            df.to_sql(table, conn, if_exists=if_exists, index=False)\n",
    "            print(f\"Inserted {len(df)} records into {table}\")\n",
    "        \n",
    "        elif table == 'dimTechSkills':\n",
    "            df = pd.read_csv(f\"{source_dir}jobTechSkills.csv\")\n",
    "            df.to_sql(table, conn, if_exists=if_exists, index=False)\n",
    "            print(f\"Inserted {len(df)} records into {table}\") \n",
    "            \n",
    "        elif table == 'dimJobInfo':\n",
    "            df = pd.read_csv(f\"{source_dir}jobTitleInfo.csv\")\n",
    "            df.to_sql(table, conn, if_exists=if_exists, index=False)\n",
    "            print(f\"Inserted {len(df)} records into {table}\")\n",
    "            \n",
    "        elif table == 'dimSkills':\n",
    "            df = pd.read_csv(f\"{source_dir}jobSkills.csv\")\n",
    "            df.to_sql(table, conn, if_exists=if_exists, index=False)\n",
    "            print(f\"Inserted {len(df)} records into {table}\")\n",
    "        \n",
    "    except FileNotFoundError:\n",
    "        print(f\"File for {source_dir} not found.\")\n",
    "    except Exception as e:\n",
    "        print(f\"Error inserting data into {table}: {e}\")"
   ]
  },
  {
   "cell_type": "markdown",
   "id": "bd3b0249",
   "metadata": {},
   "source": [
    "#### Call insert_data function"
   ]
  },
  {
   "cell_type": "code",
   "execution_count": 6,
   "id": "ad6e7d6f",
   "metadata": {},
   "outputs": [
    {
     "name": "stdout",
     "output_type": "stream",
     "text": [
      "Inserted 56495 records into dimAltTitles\n",
      "Inserted 32681 records into dimTechSkills\n",
      "Inserted 1016 records into dimJobInfo\n",
      "Inserted 62580 records into dimSkills\n"
     ]
    }
   ],
   "source": [
    "insert_data('dimAltTitles')\n",
    "insert_data('dimTechSkills')\n",
    "insert_data('dimJobInfo')\n",
    "insert_data('dimSkills')\n",
    "conn.close()"
   ]
  }
 ],
 "metadata": {
  "kernelspec": {
   "display_name": "Python 3",
   "language": "python",
   "name": "python3"
  },
  "language_info": {
   "codemirror_mode": {
    "name": "ipython",
    "version": 3
   },
   "file_extension": ".py",
   "mimetype": "text/x-python",
   "name": "python",
   "nbconvert_exporter": "python",
   "pygments_lexer": "ipython3",
   "version": "3.13.8"
  }
 },
 "nbformat": 4,
 "nbformat_minor": 5
}
