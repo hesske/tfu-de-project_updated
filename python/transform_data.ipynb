{
 "cells": [
  {
   "cell_type": "markdown",
   "id": "71d10e86",
   "metadata": {},
   "source": [
    "## Data Transform and Load"
   ]
  },
  {
   "cell_type": "markdown",
   "id": "dcd27666",
   "metadata": {},
   "source": [
    "#### Imports"
   ]
  },
  {
   "cell_type": "code",
   "execution_count": null,
   "id": "21c2d30d",
   "metadata": {},
   "outputs": [],
   "source": [
    "import pandas as pd\n",
    "import numpy as np\n",
    "import pandera.pandas as pa\n"
   ]
  },
  {
   "cell_type": "markdown",
   "id": "bd4d74aa",
   "metadata": {},
   "source": [
    "#### Validate Skills data"
   ]
  },
  {
   "cell_type": "code",
   "execution_count": null,
   "id": "a9a964e0",
   "metadata": {},
   "outputs": [
    {
     "name": "stdout",
     "output_type": "stream",
     "text": [
      "<class 'pandas.core.frame.DataFrame'>\n",
      "Index: 34673 entries, 0 to 62578\n",
      "Data columns (total 13 columns):\n",
      " #   Column              Non-Null Count  Dtype  \n",
      "---  ------              --------------  -----  \n",
      " 0   O*NET-SOC Code      34673 non-null  object \n",
      " 1   Element ID          34673 non-null  object \n",
      " 2   Element Name        34673 non-null  object \n",
      " 3   Scale ID            34673 non-null  object \n",
      " 4   Data Value          34673 non-null  float64\n",
      " 5   N                   34673 non-null  int64  \n",
      " 6   Standard Error      34673 non-null  float64\n",
      " 7   Lower CI Bound      34673 non-null  float64\n",
      " 8   Upper CI Bound      34673 non-null  float64\n",
      " 9   Recommend Suppress  34673 non-null  object \n",
      " 10  Not Relevant        34673 non-null  object \n",
      " 11  Date                34673 non-null  object \n",
      " 12  Domain Source       34673 non-null  object \n",
      "dtypes: float64(4), int64(1), object(8)\n",
      "memory usage: 3.7+ MB\n",
      "None\n"
     ]
    }
   ],
   "source": [
    "\n",
    "#alt_titles = pd.read_csv('../data/data_source_files/jobAltTitles.csv')\n",
    "skills = pd.read_csv('../data/data_source_files/jobSkills.csv')\n",
    "\n",
    "#tools = pd.read_csv('../data/data_source_files/jobTools.csv')\n",
    "skills = skills[skills['Not Relevant'].str.contains('missing', na=False) |\n",
    "                skills['Not Relevant'].str.contains('Y', na=False)]\n",
    "scheme = pa.DataFrameSchema({\n",
    "    \"O*NET-SOC Code\": pa.Column(pa.String,  [\n",
    "            \n",
    "            pa.Check(lambda s: s != 'missing'),\n",
    "        ]),\n",
    "    \"Element ID\": pa.Column(pa.String,  [\n",
    "            \n",
    "            pa.Check(lambda s: s != 'missing'),\n",
    "        ]),\n",
    "    \"Element Name\": pa.Column(pa.String,  [\n",
    "            \n",
    "            pa.Check(lambda s: s != 'missing'),\n",
    "        ]),\n",
    "    \"Scale ID\": pa.Column(pa.String,  [\n",
    "            \n",
    "            pa.Check(lambda s: s != 'missing'),\n",
    "        ]),\n",
    "    \"Data Value\": pa.Column(pa.Float, nullable=True)\n",
    "})\n",
    "validated_skills = scheme.validate(skills)\n",
    "print(validated_skills.info())"
   ]
  },
  {
   "cell_type": "markdown",
   "id": "f720971e",
   "metadata": {},
   "source": [
    "#### Validate Job Title data"
   ]
  },
  {
   "cell_type": "code",
   "execution_count": 19,
   "id": "1329c5aa",
   "metadata": {},
   "outputs": [
    {
     "name": "stdout",
     "output_type": "stream",
     "text": [
      "<class 'pandas.core.frame.DataFrame'>\n",
      "RangeIndex: 1016 entries, 0 to 1015\n",
      "Data columns (total 3 columns):\n",
      " #   Column          Non-Null Count  Dtype \n",
      "---  ------          --------------  ----- \n",
      " 0   O*NET-SOC Code  1016 non-null   object\n",
      " 1   Title           1016 non-null   object\n",
      " 2   Description     1016 non-null   object\n",
      "dtypes: object(3)\n",
      "memory usage: 23.9+ KB\n",
      "None\n"
     ]
    }
   ],
   "source": [
    "jt_df = pd.read_csv('../data/data_source_files/jobTitleInfo.csv')\n",
    "scheme = pa.DataFrameSchema({\n",
    "    \"O*NET-SOC Code\": pa.Column(pa.String,  [\n",
    "            \n",
    "            pa.Check(lambda s: s != 'missing'),\n",
    "        ]),\n",
    "    \"Title\": pa.Column(pa.String,  [\n",
    "            \n",
    "            pa.Check(lambda s: s != 'missing'),\n",
    "        ]),\n",
    "    \"Description\": pa.Column(pa.String,  [\n",
    "            \n",
    "            pa.Check(lambda s: s != 'missing'),\n",
    "        ])\n",
    "    \n",
    "})\n",
    "validated_jt = scheme.validate(jt_df)\n",
    "print(validated_jt.info())"
   ]
  },
  {
   "cell_type": "markdown",
   "id": "e4b7745c",
   "metadata": {},
   "source": [
    "#### Validate Tech Skills data"
   ]
  },
  {
   "cell_type": "code",
   "execution_count": 23,
   "id": "e628e6cd",
   "metadata": {},
   "outputs": [
    {
     "name": "stdout",
     "output_type": "stream",
     "text": [
      "<class 'pandas.core.frame.DataFrame'>\n",
      "RangeIndex: 32681 entries, 0 to 32680\n",
      "Data columns (total 6 columns):\n",
      " #   Column           Non-Null Count  Dtype \n",
      "---  ------           --------------  ----- \n",
      " 0   O*NET-SOC Code   32681 non-null  object\n",
      " 1   Example          32681 non-null  object\n",
      " 2   Commodity Code   32681 non-null  int64 \n",
      " 3   Commodity Title  32681 non-null  object\n",
      " 4   Hot Technology   32681 non-null  object\n",
      " 5   In Demand        32681 non-null  object\n",
      "dtypes: int64(1), object(5)\n",
      "memory usage: 1.5+ MB\n",
      "None\n"
     ]
    }
   ],
   "source": [
    "tech_skills = pd.read_csv('../data/data_source_files/jobTechSkills.csv')\n",
    "scheme = pa.DataFrameSchema({\n",
    "    \"O*NET-SOC Code\": pa.Column(pa.String,  [\n",
    "            pa.Check(lambda s: s != 'missing'),\n",
    "        ]),\n",
    "    \"Example\": pa.Column(pa.String,  [\n",
    "            pa.Check(lambda s: s != 'missing'),\n",
    "        ]),\n",
    "    \"Commodity Code\": pa.Column(pa.Int64,  [\n",
    "            pa.Check(lambda s: s != 'missing'),\n",
    "        ]),\n",
    "    \"Commodity Title\": pa.Column(pa.String,  [\n",
    "            pa.Check(lambda s: s != 'missing'),\n",
    "        ]),\n",
    "    \"Hot Technology\": pa.Column(pa.String,  [\n",
    "            pa.Check(lambda s: s != 'missing'),\n",
    "        ]),\n",
    "    \"In Demand\": pa.Column(pa.String,  [\n",
    "            pa.Check(lambda s: s != 'missing'),\n",
    "        ]),\n",
    "})\n",
    "validated_tech_skills = scheme.validate(tech_skills)\n",
    "print(validated_tech_skills.info())"
   ]
  }
 ],
 "metadata": {
  "kernelspec": {
   "display_name": "Python 3",
   "language": "python",
   "name": "python3"
  },
  "language_info": {
   "codemirror_mode": {
    "name": "ipython",
    "version": 3
   },
   "file_extension": ".py",
   "mimetype": "text/x-python",
   "name": "python",
   "nbconvert_exporter": "python",
   "pygments_lexer": "ipython3",
   "version": "3.13.8"
  }
 },
 "nbformat": 4,
 "nbformat_minor": 5
}
